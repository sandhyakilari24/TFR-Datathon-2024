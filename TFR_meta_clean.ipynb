{
  "nbformat": 4,
  "nbformat_minor": 0,
  "metadata": {
    "colab": {
      "provenance": []
    },
    "kernelspec": {
      "name": "python3",
      "display_name": "Python 3"
    },
    "language_info": {
      "name": "python"
    }
  },
  "cells": [
    {
      "cell_type": "code",
      "execution_count": 8,
      "metadata": {
        "colab": {
          "base_uri": "https://localhost:8080/"
        },
        "id": "MchjXN7y_adU",
        "outputId": "7339172f-aa6a-4115-fcea-c356181da4b1"
      },
      "outputs": [
        {
          "output_type": "stream",
          "name": "stdout",
          "text": [
            "Downloaded and extracted files to: temp_extract\n",
            "Converted GrantsDBExtract20241019v2.xml to tribal_grants_2024_10_12/GrantsDBExtract20241019v2.csv\n"
          ]
        }
      ],
      "source": [
        "import os\n",
        "import zipfile\n",
        "import requests\n",
        "import pandas as pd\n",
        "import xml.etree.ElementTree as ET\n",
        "from io import BytesIO\n",
        "from datetime import datetime\n",
        "\n",
        "def download_and_unzip(zip_url, extract_to):\n",
        "    \"\"\"Download ZIP file from a URL and extract it to the specified folder.\"\"\"\n",
        "    response = requests.get(zip_url)\n",
        "    if response.status_code == 200:\n",
        "        with zipfile.ZipFile(BytesIO(response.content)) as zip_ref:\n",
        "            zip_ref.extractall(extract_to)\n",
        "        print(f\"Downloaded and extracted files to: {extract_to}\")\n",
        "    else:\n",
        "        raise Exception(f\"Failed to download. Status code: {response.status_code}\")\n",
        "\n",
        "def parse_xml_to_dataframe(xml_file):\n",
        "    \"\"\"Parse XML file and convert it to a DataFrame.\"\"\"\n",
        "    tree = ET.parse(xml_file)\n",
        "    root = tree.getroot()\n",
        "\n",
        "    all_rows = []\n",
        "    all_columns = set()  # Track all unique column names\n",
        "\n",
        "    # Extract data row by row\n",
        "    for row in root:\n",
        "        data = {elem.tag: elem.text for elem in row}\n",
        "        all_columns.update(data.keys())  # Add new columns found\n",
        "        all_rows.append(data)\n",
        "\n",
        "    # Convert rows to DataFrame, filling missing columns with NaN\n",
        "    df = pd.DataFrame(all_rows).reindex(columns=sorted(all_columns))\n",
        "    return df\n",
        "\n",
        "def convert_xml_to_csv(xml_folder, output_folder):\n",
        "    \"\"\"Convert all XML files in the specified folder to CSV.\"\"\"\n",
        "    os.makedirs(output_folder, exist_ok=True)\n",
        "\n",
        "    for file_name in os.listdir(xml_folder):\n",
        "        if file_name.endswith('.xml'):\n",
        "            xml_path = os.path.join(xml_folder, file_name)\n",
        "            df = parse_xml_to_dataframe(xml_path)\n",
        "\n",
        "            csv_file = os.path.join(output_folder, file_name.replace('.xml', '.csv'))\n",
        "            df.to_csv(csv_file, index=False)\n",
        "            print(f\"Converted {file_name} to {csv_file}\")\n",
        "\n",
        "## Code for extracting the files on a daily basis\n",
        "\n",
        "#url_base='https://prod-grants-gov-chatbot.s3.amazonaws.com/extracts'\n",
        "#today=datetime.now()\n",
        "#zip_url=construct_zip_url(url_base,today)\n",
        "\n",
        "## Example Usage\n",
        "\n",
        "zip_url = 'https://prod-grants-gov-chatbot.s3.amazonaws.com/extracts/GrantsDBExtract20241019v2.zip'\n",
        "temp_extract_folder = 'temp_extract'  # Temporary folder for extraction\n",
        "output_csv_folder = 'tribal_grants_2024_10_12'  # Folder to store CSV files\n",
        "##output_csv_folder = 'tribal_grants_' + today.strftime('%Y_%m_%d')\n",
        "\n",
        "# Download, extract, and convert XML files to CSV\n",
        "download_and_unzip(zip_url, temp_extract_folder)\n",
        "convert_xml_to_csv(temp_extract_folder, output_csv_folder)"
      ]
    },
    {
      "cell_type": "code",
      "source": [
        "import pandas as pd\n",
        "import matplotlib.pyplot as plt\n",
        "\n",
        "tribal_df=pd.read_csv('/content/tribal_grants_2024_10_12/GrantsDBExtract20241019v2.csv')\n",
        "tribal_df.info()"
      ],
      "metadata": {
        "colab": {
          "base_uri": "https://localhost:8080/"
        },
        "id": "iLzDhopyClLB",
        "outputId": "00064ea2-8d48-4674-ccaf-b3ec873628a9"
      },
      "execution_count": 51,
      "outputs": [
        {
          "output_type": "stream",
          "name": "stderr",
          "text": [
            "<ipython-input-51-016e3b7d284e>:3: DtypeWarning: Columns (19,27,28) have mixed types. Specify dtype option on import or set low_memory=False.\n",
            "  tribal_df=pd.read_csv('/content/tribal_grants_2024_10_12/GrantsDBExtract20241019v2.csv')\n"
          ]
        },
        {
          "output_type": "stream",
          "name": "stdout",
          "text": [
            "<class 'pandas.core.frame.DataFrame'>\n",
            "RangeIndex: 79408 entries, 0 to 79407\n",
            "Data columns (total 38 columns):\n",
            " #   Column                                                                                        Non-Null Count  Dtype  \n",
            "---  ------                                                                                        --------------  -----  \n",
            " 0   {http://apply.grants.gov/system/OpportunityDetail-V1.0}AdditionalInformationOnEligibility     55886 non-null  object \n",
            " 1   {http://apply.grants.gov/system/OpportunityDetail-V1.0}AdditionalInformationText              51938 non-null  object \n",
            " 2   {http://apply.grants.gov/system/OpportunityDetail-V1.0}AdditionalInformationURL               52053 non-null  object \n",
            " 3   {http://apply.grants.gov/system/OpportunityDetail-V1.0}AgencyCode                             79365 non-null  object \n",
            " 4   {http://apply.grants.gov/system/OpportunityDetail-V1.0}AgencyName                             79364 non-null  object \n",
            " 5   {http://apply.grants.gov/system/OpportunityDetail-V1.0}ArchiveDate                            71274 non-null  float64\n",
            " 6   {http://apply.grants.gov/system/OpportunityDetail-V1.0}AwardCeiling                           64903 non-null  float64\n",
            " 7   {http://apply.grants.gov/system/OpportunityDetail-V1.0}AwardFloor                             56343 non-null  float64\n",
            " 8   {http://apply.grants.gov/system/OpportunityDetail-V1.0}CFDANumbers                            78571 non-null  float64\n",
            " 9   {http://apply.grants.gov/system/OpportunityDetail-V1.0}CategoryExplanation                    12192 non-null  object \n",
            " 10  {http://apply.grants.gov/system/OpportunityDetail-V1.0}CategoryOfFundingActivity              79395 non-null  object \n",
            " 11  {http://apply.grants.gov/system/OpportunityDetail-V1.0}CloseDate                              75210 non-null  float64\n",
            " 12  {http://apply.grants.gov/system/OpportunityDetail-V1.0}CloseDateExplanation                   22484 non-null  object \n",
            " 13  {http://apply.grants.gov/system/OpportunityDetail-V1.0}CostSharingOrMatchingRequirement       79395 non-null  object \n",
            " 14  {http://apply.grants.gov/system/OpportunityDetail-V1.0}Description                            79380 non-null  object \n",
            " 15  {http://apply.grants.gov/system/OpportunityDetail-V1.0}EligibleApplicants                     79389 non-null  float64\n",
            " 16  {http://apply.grants.gov/system/OpportunityDetail-V1.0}EstimatedAwardDate                     450 non-null    float64\n",
            " 17  {http://apply.grants.gov/system/OpportunityDetail-V1.0}EstimatedProjectStartDate              502 non-null    float64\n",
            " 18  {http://apply.grants.gov/system/OpportunityDetail-V1.0}EstimatedSynopsisCloseDate             672 non-null    float64\n",
            " 19  {http://apply.grants.gov/system/OpportunityDetail-V1.0}EstimatedSynopsisCloseDateExplanation  335 non-null    object \n",
            " 20  {http://apply.grants.gov/system/OpportunityDetail-V1.0}EstimatedSynopsisPostDate              588 non-null    float64\n",
            " 21  {http://apply.grants.gov/system/OpportunityDetail-V1.0}EstimatedTotalProgramFunding           55728 non-null  float64\n",
            " 22  {http://apply.grants.gov/system/OpportunityDetail-V1.0}ExpectedNumberOfAwards                 56414 non-null  float64\n",
            " 23  {http://apply.grants.gov/system/OpportunityDetail-V1.0}FiscalYear                             880 non-null    float64\n",
            " 24  {http://apply.grants.gov/system/OpportunityDetail-V1.0}FundingInstrumentType                  79395 non-null  object \n",
            " 25  {http://apply.grants.gov/system/OpportunityDetail-V1.0}GrantorContactEmail                    78231 non-null  object \n",
            " 26  {http://apply.grants.gov/system/OpportunityDetail-V1.0}GrantorContactEmailDescription         77944 non-null  object \n",
            " 27  {http://apply.grants.gov/system/OpportunityDetail-V1.0}GrantorContactName                     837 non-null    object \n",
            " 28  {http://apply.grants.gov/system/OpportunityDetail-V1.0}GrantorContactPhoneNumber              829 non-null    object \n",
            " 29  {http://apply.grants.gov/system/OpportunityDetail-V1.0}GrantorContactText                     78514 non-null  object \n",
            " 30  {http://apply.grants.gov/system/OpportunityDetail-V1.0}LastUpdatedDate                        79408 non-null  int64  \n",
            " 31  {http://apply.grants.gov/system/OpportunityDetail-V1.0}OpportunityCategory                    79394 non-null  object \n",
            " 32  {http://apply.grants.gov/system/OpportunityDetail-V1.0}OpportunityCategoryExplanation         4598 non-null   object \n",
            " 33  {http://apply.grants.gov/system/OpportunityDetail-V1.0}OpportunityID                          79408 non-null  int64  \n",
            " 34  {http://apply.grants.gov/system/OpportunityDetail-V1.0}OpportunityNumber                      79408 non-null  object \n",
            " 35  {http://apply.grants.gov/system/OpportunityDetail-V1.0}OpportunityTitle                       79408 non-null  object \n",
            " 36  {http://apply.grants.gov/system/OpportunityDetail-V1.0}PostDate                               79408 non-null  int64  \n",
            " 37  {http://apply.grants.gov/system/OpportunityDetail-V1.0}Version                                79408 non-null  object \n",
            "dtypes: float64(13), int64(3), object(22)\n",
            "memory usage: 23.0+ MB\n"
          ]
        }
      ]
    },
    {
      "cell_type": "markdown",
      "source": [
        "Creating data_source column from the URL"
      ],
      "metadata": {
        "id": "4tuywRj8B3t1"
      }
    },
    {
      "cell_type": "code",
      "source": [
        "from urllib.parse import urlparse\n",
        "\n",
        "# Function to safely extract domains from URLs or keep non-URL values as-is\n",
        "def extract_domain(value):\n",
        "    # Check if the value starts with 'http://' or 'https://'\n",
        "    if isinstance(value, str) and (value.startswith('http://') or value.startswith('https://')):\n",
        "        parsed_url = urlparse(value)  # Parse the URL\n",
        "        domain = parsed_url.netloc  # Extract domain (netloc)\n",
        "\n",
        "        # Ensure the domain has at least two parts to avoid IndexError\n",
        "        parts = domain.split('.')\n",
        "        if len(parts) >= 2:\n",
        "            return parts[-2] + '.' + parts[-1]  # Return main domain (e.g., 'grants.gov')\n",
        "        else:\n",
        "            return domain  # Return as-is if it's a malformed domain\n",
        "    else:\n",
        "        return value  # Keep non-URL values as they are\n",
        "\n",
        "# Apply the function and create the 'data_source' column\n",
        "tribal_df['data_source'] = tribal_df['{http://apply.grants.gov/system/OpportunityDetail-V1.0}AdditionalInformationURL'].apply(extract_domain)\n",
        "\n",
        "# Check the result\n",
        "tribal_df['data_source'].value_counts()"
      ],
      "metadata": {
        "colab": {
          "base_uri": "https://localhost:8080/",
          "height": 524
        },
        "id": "A8348UpwJkXt",
        "outputId": "8b13b022-2eec-4857-e49d-7276f7d68700"
      },
      "execution_count": 54,
      "outputs": [
        {
          "output_type": "execute_result",
          "data": {
            "text/plain": [
              "data_source\n",
              "nih.gov                                                                                                                                                12454\n",
              "grants.gov                                                                                                                                              9796\n",
              "grantsolutions.gov                                                                                                                                      2657\n",
              "usda.gov                                                                                                                                                1675\n",
              "nasaprs.com                                                                                                                                             1559\n",
              "                                                                                                                                                       ...  \n",
              "CLICK ON THE FULL ANNOUNCEMENT BUTTON LOCATED AT THE TOP OF THIS PAGE                                                                                      1\n",
              "Full anouncement is available on the Grants.gov website by scrolling to the tope of the page and clicking on the &quot;Full Announcement&quot; box.        1\n",
              "osha.gov                                                                                                                                                   1\n",
              "www.epa.gov/sites/production/files/2018-11/documents/nep_coastal_watersheds_rfa.pdf                                                                        1\n",
              "hdang@cdc.gov                                                                                                                                              1\n",
              "Name: count, Length: 1243, dtype: int64"
            ],
            "text/html": [
              "<div>\n",
              "<style scoped>\n",
              "    .dataframe tbody tr th:only-of-type {\n",
              "        vertical-align: middle;\n",
              "    }\n",
              "\n",
              "    .dataframe tbody tr th {\n",
              "        vertical-align: top;\n",
              "    }\n",
              "\n",
              "    .dataframe thead th {\n",
              "        text-align: right;\n",
              "    }\n",
              "</style>\n",
              "<table border=\"1\" class=\"dataframe\">\n",
              "  <thead>\n",
              "    <tr style=\"text-align: right;\">\n",
              "      <th></th>\n",
              "      <th>count</th>\n",
              "    </tr>\n",
              "    <tr>\n",
              "      <th>data_source</th>\n",
              "      <th></th>\n",
              "    </tr>\n",
              "  </thead>\n",
              "  <tbody>\n",
              "    <tr>\n",
              "      <th>nih.gov</th>\n",
              "      <td>12454</td>\n",
              "    </tr>\n",
              "    <tr>\n",
              "      <th>grants.gov</th>\n",
              "      <td>9796</td>\n",
              "    </tr>\n",
              "    <tr>\n",
              "      <th>grantsolutions.gov</th>\n",
              "      <td>2657</td>\n",
              "    </tr>\n",
              "    <tr>\n",
              "      <th>usda.gov</th>\n",
              "      <td>1675</td>\n",
              "    </tr>\n",
              "    <tr>\n",
              "      <th>nasaprs.com</th>\n",
              "      <td>1559</td>\n",
              "    </tr>\n",
              "    <tr>\n",
              "      <th>...</th>\n",
              "      <td>...</td>\n",
              "    </tr>\n",
              "    <tr>\n",
              "      <th>CLICK ON THE FULL ANNOUNCEMENT BUTTON LOCATED AT THE TOP OF THIS PAGE</th>\n",
              "      <td>1</td>\n",
              "    </tr>\n",
              "    <tr>\n",
              "      <th>Full anouncement is available on the Grants.gov website by scrolling to the tope of the page and clicking on the &amp;quot;Full Announcement&amp;quot; box.</th>\n",
              "      <td>1</td>\n",
              "    </tr>\n",
              "    <tr>\n",
              "      <th>osha.gov</th>\n",
              "      <td>1</td>\n",
              "    </tr>\n",
              "    <tr>\n",
              "      <th>www.epa.gov/sites/production/files/2018-11/documents/nep_coastal_watersheds_rfa.pdf</th>\n",
              "      <td>1</td>\n",
              "    </tr>\n",
              "    <tr>\n",
              "      <th>hdang@cdc.gov</th>\n",
              "      <td>1</td>\n",
              "    </tr>\n",
              "  </tbody>\n",
              "</table>\n",
              "<p>1243 rows × 1 columns</p>\n",
              "</div><br><label><b>dtype:</b> int64</label>"
            ]
          },
          "metadata": {},
          "execution_count": 54
        }
      ]
    },
    {
      "cell_type": "code",
      "source": [
        "tribal_df=tribal_df.rename(columns={'{http://apply.grants.gov/system/OpportunityDetail-V1.0}OpportunityID':'Grant ID','data_source':'Source of data','{http://apply.grants.gov/system/OpportunityDetail-V1.0}AdditionalInformationURL':'Link to grant source','{http://apply.grants.gov/system/OpportunityDetail-V1.0}AgencyName':'Granting organization','{http://apply.grants.gov/system/OpportunityDetail-V1.0}OpportunityTitle':'Grant Title'})\n",
        "tribal_df.info()"
      ],
      "metadata": {
        "colab": {
          "base_uri": "https://localhost:8080/"
        },
        "id": "GV7yuiFjMDrW",
        "outputId": "7dc539e1-a42b-4fe1-e6f1-60b14e069210"
      },
      "execution_count": 57,
      "outputs": [
        {
          "output_type": "stream",
          "name": "stdout",
          "text": [
            "<class 'pandas.core.frame.DataFrame'>\n",
            "RangeIndex: 79408 entries, 0 to 79407\n",
            "Data columns (total 39 columns):\n",
            " #   Column                                                                                        Non-Null Count  Dtype  \n",
            "---  ------                                                                                        --------------  -----  \n",
            " 0   {http://apply.grants.gov/system/OpportunityDetail-V1.0}AdditionalInformationOnEligibility     55886 non-null  object \n",
            " 1   {http://apply.grants.gov/system/OpportunityDetail-V1.0}AdditionalInformationText              51938 non-null  object \n",
            " 2   Link to grant source                                                                          52053 non-null  object \n",
            " 3   {http://apply.grants.gov/system/OpportunityDetail-V1.0}AgencyCode                             79365 non-null  object \n",
            " 4   Granting organization                                                                         79364 non-null  object \n",
            " 5   {http://apply.grants.gov/system/OpportunityDetail-V1.0}ArchiveDate                            71274 non-null  float64\n",
            " 6   {http://apply.grants.gov/system/OpportunityDetail-V1.0}AwardCeiling                           64903 non-null  float64\n",
            " 7   {http://apply.grants.gov/system/OpportunityDetail-V1.0}AwardFloor                             56343 non-null  float64\n",
            " 8   {http://apply.grants.gov/system/OpportunityDetail-V1.0}CFDANumbers                            78571 non-null  float64\n",
            " 9   {http://apply.grants.gov/system/OpportunityDetail-V1.0}CategoryExplanation                    12192 non-null  object \n",
            " 10  {http://apply.grants.gov/system/OpportunityDetail-V1.0}CategoryOfFundingActivity              79395 non-null  object \n",
            " 11  {http://apply.grants.gov/system/OpportunityDetail-V1.0}CloseDate                              75210 non-null  float64\n",
            " 12  {http://apply.grants.gov/system/OpportunityDetail-V1.0}CloseDateExplanation                   22484 non-null  object \n",
            " 13  {http://apply.grants.gov/system/OpportunityDetail-V1.0}CostSharingOrMatchingRequirement       79395 non-null  object \n",
            " 14  {http://apply.grants.gov/system/OpportunityDetail-V1.0}Description                            79380 non-null  object \n",
            " 15  {http://apply.grants.gov/system/OpportunityDetail-V1.0}EligibleApplicants                     79389 non-null  float64\n",
            " 16  {http://apply.grants.gov/system/OpportunityDetail-V1.0}EstimatedAwardDate                     450 non-null    float64\n",
            " 17  {http://apply.grants.gov/system/OpportunityDetail-V1.0}EstimatedProjectStartDate              502 non-null    float64\n",
            " 18  {http://apply.grants.gov/system/OpportunityDetail-V1.0}EstimatedSynopsisCloseDate             672 non-null    float64\n",
            " 19  {http://apply.grants.gov/system/OpportunityDetail-V1.0}EstimatedSynopsisCloseDateExplanation  335 non-null    object \n",
            " 20  {http://apply.grants.gov/system/OpportunityDetail-V1.0}EstimatedSynopsisPostDate              588 non-null    float64\n",
            " 21  {http://apply.grants.gov/system/OpportunityDetail-V1.0}EstimatedTotalProgramFunding           55728 non-null  float64\n",
            " 22  {http://apply.grants.gov/system/OpportunityDetail-V1.0}ExpectedNumberOfAwards                 56414 non-null  float64\n",
            " 23  {http://apply.grants.gov/system/OpportunityDetail-V1.0}FiscalYear                             880 non-null    float64\n",
            " 24  {http://apply.grants.gov/system/OpportunityDetail-V1.0}FundingInstrumentType                  79395 non-null  object \n",
            " 25  {http://apply.grants.gov/system/OpportunityDetail-V1.0}GrantorContactEmail                    78231 non-null  object \n",
            " 26  {http://apply.grants.gov/system/OpportunityDetail-V1.0}GrantorContactEmailDescription         77944 non-null  object \n",
            " 27  {http://apply.grants.gov/system/OpportunityDetail-V1.0}GrantorContactName                     837 non-null    object \n",
            " 28  {http://apply.grants.gov/system/OpportunityDetail-V1.0}GrantorContactPhoneNumber              829 non-null    object \n",
            " 29  {http://apply.grants.gov/system/OpportunityDetail-V1.0}GrantorContactText                     78514 non-null  object \n",
            " 30  {http://apply.grants.gov/system/OpportunityDetail-V1.0}LastUpdatedDate                        79408 non-null  int64  \n",
            " 31  {http://apply.grants.gov/system/OpportunityDetail-V1.0}OpportunityCategory                    79394 non-null  object \n",
            " 32  {http://apply.grants.gov/system/OpportunityDetail-V1.0}OpportunityCategoryExplanation         4598 non-null   object \n",
            " 33  Grant ID                                                                                      79408 non-null  int64  \n",
            " 34  {http://apply.grants.gov/system/OpportunityDetail-V1.0}OpportunityNumber                      79408 non-null  object \n",
            " 35  Grant Title                                                                                   79408 non-null  object \n",
            " 36  {http://apply.grants.gov/system/OpportunityDetail-V1.0}PostDate                               79408 non-null  int64  \n",
            " 37  {http://apply.grants.gov/system/OpportunityDetail-V1.0}Version                                79408 non-null  object \n",
            " 38  Source of data                                                                                52053 non-null  object \n",
            "dtypes: float64(13), int64(3), object(23)\n",
            "memory usage: 23.6+ MB\n"
          ]
        }
      ]
    },
    {
      "cell_type": "markdown",
      "source": [
        "Creating a new df for given meta data format"
      ],
      "metadata": {
        "id": "9JsvcrAYCJEc"
      }
    },
    {
      "cell_type": "code",
      "source": [
        "tribal_df_meta=tribal_df[['Grant Title','Granting organization','Link to grant source','Source of data','Grant ID']]\n",
        "tribal_df_meta.info()"
      ],
      "metadata": {
        "colab": {
          "base_uri": "https://localhost:8080/"
        },
        "id": "55IQc2igNbet",
        "outputId": "cae821eb-4c88-44d4-a6dc-8ccbe0128038"
      },
      "execution_count": 67,
      "outputs": [
        {
          "output_type": "stream",
          "name": "stdout",
          "text": [
            "<class 'pandas.core.frame.DataFrame'>\n",
            "RangeIndex: 79408 entries, 0 to 79407\n",
            "Data columns (total 5 columns):\n",
            " #   Column                 Non-Null Count  Dtype \n",
            "---  ------                 --------------  ----- \n",
            " 0   Grant Title            79408 non-null  object\n",
            " 1   Granting organization  79364 non-null  object\n",
            " 2   Link to grant source   52053 non-null  object\n",
            " 3   Source of data         52053 non-null  object\n",
            " 4   Grant ID               79408 non-null  int64 \n",
            "dtypes: int64(1), object(4)\n",
            "memory usage: 3.0+ MB\n"
          ]
        }
      ]
    },
    {
      "cell_type": "code",
      "source": [
        "from urllib.parse import urlparse\n",
        "\n",
        "def extract_website_name(link):\n",
        "    if pd.isna(link) or link.strip() == \"\":\n",
        "        return None\n",
        "    parsed_url = urlparse(link)\n",
        "    # Check if the netloc has a valid structure\n",
        "    if not parsed_url.netloc or '.' not in parsed_url.netloc:\n",
        "        return None\n",
        "    domain_parts = parsed_url.netloc.split('.')\n",
        "    # Return the last two parts as the website name (e.g., 'grants.gov')\n",
        "    return '.'.join(domain_parts[-2:]) if len(domain_parts) >= 2 else None\n",
        "\n",
        "# Create a new column for website names safely\n",
        "tribal_df_meta.loc[:, 'Website'] = tribal_df_meta['Link to grant source'].apply(extract_website_name)\n",
        "\n",
        "# Fill missing values in 'Source of data' using the extracted website names safely\n",
        "tribal_df_meta['Source of data'] = tribal_df_meta['Source of data'].fillna(tribal_df_meta['Website'])\n",
        "\n",
        "# Drop the 'Website' column if you no longer need it\n",
        "tribal_df_meta.drop(columns=['Website'], inplace=True)\n",
        "\n",
        "# Check the result\n",
        "print(tribal_df_meta)\n",
        "\n",
        "# Check for remaining missing links\n",
        "remaining_missing_links = tribal_df_meta['Link to grant source'].isna().sum()\n",
        "print(f'Remaining missing links: {remaining_missing_links}')"
      ],
      "metadata": {
        "colab": {
          "base_uri": "https://localhost:8080/"
        },
        "id": "mX2IVQYYcmU_",
        "outputId": "ed11b5e2-e1be-467a-8035-65c7f02d0f3f"
      },
      "execution_count": 72,
      "outputs": [
        {
          "output_type": "stream",
          "name": "stdout",
          "text": [
            "                                             Grant Title  \\\n",
            "0      Establishment of the Edmund S. Muskie Graduate...   \n",
            "1      Eradication of Yellow Crazy Ants on Johnston A...   \n",
            "2      Cooperative Ecosystem Studies Unit, Piedmont S...   \n",
            "3      Plant Feedstock Genomics for Bioenergy:  A Joi...   \n",
            "4      Management of HIV-Related Lung Disease and Car...   \n",
            "...                                                  ...   \n",
            "79403  USAID/Sri Lanka Public Financial Management Ac...   \n",
            "79404  EHB-Benchmark Plan Modernization Grant for Sta...   \n",
            "79405        Spotlight on Humanities in Higher Education   \n",
            "79406  Child Welfare Research Partnerships: Understan...   \n",
            "79407  Request for Information (RFI)-The Enhancing Tr...   \n",
            "\n",
            "                                 Granting organization  \\\n",
            "0            Bureau of South and Central Asian Affairs   \n",
            "1                            Fish and Wildlife Service   \n",
            "2                                    Geological Survey   \n",
            "3                                    Office of Science   \n",
            "4                        National Institutes of Health   \n",
            "...                                                ...   \n",
            "79403                          Sri Lanka USAID-Colombo   \n",
            "79404         Centers for Medicare & Medicaid Services   \n",
            "79405            National Endowment for the Humanities   \n",
            "79406  Administration for Children and Families - OPRE   \n",
            "79407                                  Microhealth LLC   \n",
            "\n",
            "                                    Link to grant source  Source of data  \\\n",
            "0      https://www.grants.gov/search-results-detail/2...      grants.gov   \n",
            "1                                 http://www.grants.gov/      grants.gov   \n",
            "2                                 http://www.grants.gov/      grants.gov   \n",
            "3                             https://www.fedconnect.net  fedconnect.net   \n",
            "4      http://grants.nih.gov/grants/guide/rfa-files/R...         nih.gov   \n",
            "...                                                  ...             ...   \n",
            "79403  https://www.grants.gov/search-results-detail/3...      grants.gov   \n",
            "79404  https://www.grants.gov/search-results-detail/3...      grants.gov   \n",
            "79405  https://www.neh.gov/program/spotlight-humaniti...         neh.gov   \n",
            "79406  https://www.grants.gov/search-results-detail/3...      grants.gov   \n",
            "79407  https://www.grants.gov/search-results-detail/3...      grants.gov   \n",
            "\n",
            "       Grant ID  \n",
            "0        262148  \n",
            "1        262149  \n",
            "2        131073  \n",
            "3        131094  \n",
            "4        131095  \n",
            "...         ...  \n",
            "79403    356692  \n",
            "79404    356740  \n",
            "79405    356739  \n",
            "79406    356766  \n",
            "79407    356769  \n",
            "\n",
            "[79408 rows x 5 columns]\n",
            "Remaining missing links: 0\n"
          ]
        },
        {
          "output_type": "stream",
          "name": "stderr",
          "text": [
            "<ipython-input-72-1f93a9699097>:15: SettingWithCopyWarning: \n",
            "A value is trying to be set on a copy of a slice from a DataFrame.\n",
            "Try using .loc[row_indexer,col_indexer] = value instead\n",
            "\n",
            "See the caveats in the documentation: https://pandas.pydata.org/pandas-docs/stable/user_guide/indexing.html#returning-a-view-versus-a-copy\n",
            "  tribal_df_meta.loc[:, 'Website'] = tribal_df_meta['Link to grant source'].apply(extract_website_name)\n",
            "<ipython-input-72-1f93a9699097>:18: SettingWithCopyWarning: \n",
            "A value is trying to be set on a copy of a slice from a DataFrame.\n",
            "Try using .loc[row_indexer,col_indexer] = value instead\n",
            "\n",
            "See the caveats in the documentation: https://pandas.pydata.org/pandas-docs/stable/user_guide/indexing.html#returning-a-view-versus-a-copy\n",
            "  tribal_df_meta['Source of data'] = tribal_df_meta['Source of data'].fillna(tribal_df_meta['Website'])\n",
            "<ipython-input-72-1f93a9699097>:21: SettingWithCopyWarning: \n",
            "A value is trying to be set on a copy of a slice from a DataFrame\n",
            "\n",
            "See the caveats in the documentation: https://pandas.pydata.org/pandas-docs/stable/user_guide/indexing.html#returning-a-view-versus-a-copy\n",
            "  tribal_df_meta.drop(columns=['Website'], inplace=True)\n"
          ]
        }
      ]
    },
    {
      "cell_type": "code",
      "source": [
        "tribal_df_meta.info()"
      ],
      "metadata": {
        "colab": {
          "base_uri": "https://localhost:8080/"
        },
        "id": "Nxd6V6UWfNxu",
        "outputId": "c1a1e550-4098-4831-b5c0-4c1a2a20f5f1"
      },
      "execution_count": 73,
      "outputs": [
        {
          "output_type": "stream",
          "name": "stdout",
          "text": [
            "<class 'pandas.core.frame.DataFrame'>\n",
            "RangeIndex: 79408 entries, 0 to 79407\n",
            "Data columns (total 5 columns):\n",
            " #   Column                 Non-Null Count  Dtype \n",
            "---  ------                 --------------  ----- \n",
            " 0   Grant Title            79408 non-null  object\n",
            " 1   Granting organization  79364 non-null  object\n",
            " 2   Link to grant source   79408 non-null  object\n",
            " 3   Source of data         79408 non-null  object\n",
            " 4   Grant ID               79408 non-null  int64 \n",
            "dtypes: int64(1), object(4)\n",
            "memory usage: 3.0+ MB\n"
          ]
        }
      ]
    },
    {
      "cell_type": "code",
      "source": [
        "tribal_df_meta.info()"
      ],
      "metadata": {
        "colab": {
          "base_uri": "https://localhost:8080/"
        },
        "id": "jhLh8cYWhVBt",
        "outputId": "301e5d0f-33c2-40ae-b25c-29ffdae23a4e"
      },
      "execution_count": 75,
      "outputs": [
        {
          "output_type": "stream",
          "name": "stdout",
          "text": [
            "<class 'pandas.core.frame.DataFrame'>\n",
            "RangeIndex: 79408 entries, 0 to 79407\n",
            "Data columns (total 5 columns):\n",
            " #   Column                 Non-Null Count  Dtype \n",
            "---  ------                 --------------  ----- \n",
            " 0   Grant Title            79408 non-null  object\n",
            " 1   Granting organization  79364 non-null  object\n",
            " 2   Link to grant source   79408 non-null  object\n",
            " 3   Source of data         79408 non-null  object\n",
            " 4   Grant ID               79408 non-null  int64 \n",
            "dtypes: int64(1), object(4)\n",
            "memory usage: 3.0+ MB\n"
          ]
        }
      ]
    },
    {
      "cell_type": "markdown",
      "source": [
        "Converting all the links to grants.gov format using Grant ID to ensure all the links are in a common format."
      ],
      "metadata": {
        "id": "n-jrhG1SC1nC"
      }
    },
    {
      "cell_type": "code",
      "source": [
        "# Function to convert all links to the same Grants.gov format\n",
        "def convert_all_links_to_grants_gov_format(df, column_name):\n",
        "    base_url = \"http://www.grants.gov/search-results-detail\"  # Base URL for Grants.gov\n",
        "    uniform_links = []\n",
        "\n",
        "    for index, row in df.iterrows():\n",
        "        link = row[column_name].strip()  # Strip any whitespace\n",
        "\n",
        "        # Check if the link already ends with the correct grant ID format\n",
        "        if link.startswith('http'):\n",
        "            # Extract the grant ID if the link is valid but not in the required format\n",
        "            if 'search-results-detail' in link:\n",
        "                # The link is already in the right format, keep it as is\n",
        "                uniform_links.append(link)\n",
        "            else:\n",
        "                # If the link doesn't match the required format, extract grant ID\n",
        "                grant_id = link.split('/')[-1]  # Assuming the grant ID is the last part of the URL\n",
        "                new_link = f\"{base_url}/{grant_id}\"  # Fixed URL construction\n",
        "                uniform_links.append(new_link)\n",
        "        else:\n",
        "            # If the link is just a grant ID, create the new link\n",
        "            grant_id = link  # Assuming link is just the grant ID\n",
        "            new_link = f\"{base_url}/{grant_id}\"  # Fixed URL construction\n",
        "            uniform_links.append(new_link)\n",
        "\n",
        "    # Update the DataFrame with new links using .loc to avoid SettingWithCopyWarning\n",
        "    df.loc[:, column_name] = uniform_links\n",
        "    return df\n",
        "\n",
        "# Convert all links in the DataFrame to the uniform Grants.gov format\n",
        "tribal_df_meta = convert_all_links_to_grants_gov_format(tribal_df_meta, 'Link to grant source')\n",
        "\n",
        "# Display the updated DataFrame with converted links\n",
        "print(tribal_df_meta[['Link to grant source']])\n"
      ],
      "metadata": {
        "colab": {
          "base_uri": "https://localhost:8080/"
        },
        "id": "R23F6chwy7Sn",
        "outputId": "5d80c875-d0a8-481e-eab8-3ec0036a9204"
      },
      "execution_count": 96,
      "outputs": [
        {
          "output_type": "stream",
          "name": "stdout",
          "text": [
            "                                    Link to grant source\n",
            "0      https://www.grants.gov/search-results-detail/2...\n",
            "1      http://www.grants.gov/search-results-detail/26...\n",
            "2      http://www.grants.gov/search-results-detail/13...\n",
            "3      http://www.grants.gov/search-results-detail/ww...\n",
            "4      http://www.grants.gov/search-results-detail/RF...\n",
            "...                                                  ...\n",
            "79403  https://www.grants.gov/search-results-detail/3...\n",
            "79404  https://www.grants.gov/search-results-detail/3...\n",
            "79405  http://www.grants.gov/search-results-detail/sp...\n",
            "79406  https://www.grants.gov/search-results-detail/3...\n",
            "79407  https://www.grants.gov/search-results-detail/3...\n",
            "\n",
            "[79408 rows x 1 columns]\n"
          ]
        }
      ]
    },
    {
      "cell_type": "code",
      "source": [
        "tribal_df_meta.info()"
      ],
      "metadata": {
        "colab": {
          "base_uri": "https://localhost:8080/"
        },
        "id": "uxX29FQ6zK5n",
        "outputId": "586be511-a82b-41b2-9745-4d2d78a4a573"
      },
      "execution_count": 97,
      "outputs": [
        {
          "output_type": "stream",
          "name": "stdout",
          "text": [
            "<class 'pandas.core.frame.DataFrame'>\n",
            "RangeIndex: 79408 entries, 0 to 79407\n",
            "Data columns (total 5 columns):\n",
            " #   Column                 Non-Null Count  Dtype \n",
            "---  ------                 --------------  ----- \n",
            " 0   Grant Title            79408 non-null  object\n",
            " 1   Granting organization  79364 non-null  object\n",
            " 2   Link to grant source   79408 non-null  object\n",
            " 3   Source of data         79408 non-null  object\n",
            " 4   Grant ID               79408 non-null  int64 \n",
            "dtypes: int64(1), object(4)\n",
            "memory usage: 3.0+ MB\n"
          ]
        }
      ]
    },
    {
      "cell_type": "code",
      "source": [
        "tribal_df_meta['Applicant Eligibility']=tribal_df['{http://apply.grants.gov/system/OpportunityDetail-V1.0}EligibleApplicants']"
      ],
      "metadata": {
        "colab": {
          "base_uri": "https://localhost:8080/"
        },
        "id": "6vo2PvVM_924",
        "outputId": "8d7af4d8-e927-4f50-cf01-d0cd410c7518"
      },
      "execution_count": 106,
      "outputs": [
        {
          "output_type": "stream",
          "name": "stderr",
          "text": [
            "<ipython-input-106-a818a03217af>:1: SettingWithCopyWarning: \n",
            "A value is trying to be set on a copy of a slice from a DataFrame.\n",
            "Try using .loc[row_indexer,col_indexer] = value instead\n",
            "\n",
            "See the caveats in the documentation: https://pandas.pydata.org/pandas-docs/stable/user_guide/indexing.html#returning-a-view-versus-a-copy\n",
            "  tribal_df_meta['Applicant Eligibility']=tribal_df['{http://apply.grants.gov/system/OpportunityDetail-V1.0}EligibleApplicants']\n"
          ]
        }
      ]
    },
    {
      "cell_type": "code",
      "source": [
        "tribal_df_meta.to_csv('new_tribal_meta_cleaned_20241019.csv')"
      ],
      "metadata": {
        "id": "rGHjV7UJANkV"
      },
      "execution_count": 110,
      "outputs": []
    }
  ]
}